{
 "cells": [
  {
   "cell_type": "markdown",
   "metadata": {},
   "source": [
    "## Exercise 22\n",
    "### In this exercise i do rewrite all character and symbol from previous exercise. So that's mean i must understand all the code to make a good fundamental"
   ]
  },
  {
   "cell_type": "code",
   "execution_count": null,
   "metadata": {},
   "outputs": [],
   "source": [
    "# Exercise 1\n",
    "\n",
    "print(\"Hello World!\")\n",
    "print(\"Hello Again\")\n",
    "print(\"I Like Typing This.\")\n",
    "print(\"This Is Fun.\")\n",
    "print(\"Yay! Printing.\")\n",
    "print(\"I'd much rather you 'not'.\")\n",
    "print('I \"said\" not to touch this.')\n",
    "print('Johny said \"This is crazy!\"')"
   ]
  },
  {
   "cell_type": "markdown",
   "metadata": {},
   "source": [
    "So the print function is to prins the value inside the parentheses to sys.stdout.\n",
    "\n",
    "Otherwise the parentheses is to call an object."
   ]
  },
  {
   "cell_type": "code",
   "execution_count": null,
   "metadata": {},
   "outputs": [],
   "source": [
    "# Exercise 2\n",
    "\n",
    "# A comment, this is so you can read your program later.\n",
    "# Anything after the # is ignored by python.\n",
    "\n",
    "print(\"I could have code like this.\") # and the comment after is ignored.\n",
    "\n",
    "# You can also use a comment to \"disable\" or comment out a piece of code:\n",
    "# print(\"This won't run.\")\n",
    "\n",
    "print(\"This will run.\")\n"
   ]
  },
  {
   "cell_type": "markdown",
   "metadata": {},
   "source": [
    "The hash # symbol is indicate line after it will be a comments section. Wich is the comment are ignored by the syntax"
   ]
  },
  {
   "cell_type": "code",
   "execution_count": 2,
   "metadata": {},
   "outputs": [
    {
     "name": "stdout",
     "output_type": "stream",
     "text": [
      "I will now count my chicken:\n",
      "Hens 30.0\n",
      "Roosters 97\n",
      "Now i will count the eggs:\n",
      "6.75\n",
      "Is it true that 3 + 2 < 5 - 7?\n",
      "False\n",
      "What is 3 + 2? 5\n",
      "What is 5 - 7? -2\n",
      "Oh that's why it's false.\n",
      "Is it greater? True\n",
      "Is it greater or equal? True\n",
      "Is it less or equal? False\n"
     ]
    }
   ],
   "source": [
    "# Exercise 3\n",
    "\n",
    "print(\"I will now count my chicken:\")\n",
    "\n",
    "print(\"Hens\", 25 + 30 / 6) #The comma after \"Hens\" is used to separate string and numerical processing\n",
    "print(\"Roosters\", 100 - 25 * 3 % 4)\n",
    "\n",
    "print(\"Now i will count the eggs:\")\n",
    "\n",
    "print(3 + 2 + 1 - 5 + 4 % 2 - 1 / 4 + 6)\n",
    "\n",
    "print(\"Is it true that 3 + 2 < 5 - 7?\")\n",
    "\n",
    "print(3 + 2 < 5 - 7) #Will gave a False answer because 5 is greater than -2\n",
    "\n",
    "print(\"What is 3 + 2?\", 3 + 2)\n",
    "print(\"What is 5 - 7?\", 5 - 7)\n",
    "\n",
    "print(\"Oh that's why it's false.\")\n",
    "\n",
    "print(\"Is it greater?\", 5 > -2)\n",
    "print(\"Is it greater or equal?\", 5 >= -2)\n",
    "print(\"Is it less or equal?\", 5 <= -2)"
   ]
  },
  {
   "cell_type": "markdown",
   "metadata": {},
   "source": [
    "So at Exercise 3 I've learn about operator in python. These operator help us on doing math logic in python language.\n",
    "\n",
    "Below is the student drill."
   ]
  },
  {
   "cell_type": "code",
   "execution_count": 3,
   "metadata": {},
   "outputs": [
    {
     "name": "stdout",
     "output_type": "stream",
     "text": [
      "The volume of a cube with side lenght 7 is 343 cm^3\n",
      "The volume of a ball with radius 11 is 5572.453333333333 cm^3\n",
      "The volume of a pyramid with base 7 and height 12 is 196.0 cm^3\n"
     ]
    }
   ],
   "source": [
    "#Formula to know cubes volume\n",
    "print(\"The volume of a cube with side lenght 7 is\", 7 ** 3,\"cm^3\")\n",
    "\n",
    "#Formula to know a Ball volume\n",
    "print(\"The volume of a ball with radius 11 is\", (4 / 3) * 3.14 * 11 ** 3, \"cm^3\")\n",
    "\n",
    "#Formula to know a pyramid volume\n",
    "print(\"The volume of a pyramid with base 7 and height 12 is\", (7 ** 2 * 12) / 3, \"cm^3\")"
   ]
  },
  {
   "cell_type": "code",
   "execution_count": 4,
   "metadata": {},
   "outputs": [
    {
     "name": "stdout",
     "output_type": "stream",
     "text": [
      "There are 100 cars available.\n",
      "There are only 30 drivers available.\n",
      "There will be 70 empty cars today.\n",
      "We can transport 120.0 people today.\n",
      "We have 90 to carpool today.\n",
      "We need to put about 3.0 in each car.\n"
     ]
    }
   ],
   "source": [
    "#Exer ise 4\n",
    "\n",
    "cars = 100 #Create variable car with 100 value in float data type\n",
    "space_in_a_car = 4.0 #Create space in car variable so we knew the capacity for that car\n",
    "drivers = 30 #Create variable drivers with value 30\n",
    "passangers = 90 #Create variable passangers with value 90\n",
    "cars_not_driven = cars - drivers #Create variable cars_not_driven with value of car - drivers\n",
    "cars_driven = drivers #Indicate that cars driven is driven by a total of driver\n",
    "carpool_capcity = cars_driven * space_in_a_car #Create variable carpool_capacity with value of cars_driven * space_in_a_car\n",
    "average_passangers_per_car = passangers / cars_driven #Show average_passangers_per_car with value of passangers / cars_driven\n",
    "\n",
    "print(\"There are\", cars, \"cars available.\")\n",
    "print(\"There are only\", drivers, \"drivers available.\")\n",
    "print(\"There will be\", cars_not_driven, \"empty cars today.\")\n",
    "print(\"We can transport\", carpool_capcity, \"people today.\")\n",
    "print(\"We have\", passangers, \"to carpool today.\")\n",
    "print(\"We need to put about\", average_passangers_per_car, \"in each car.\")\n"
   ]
  },
  {
   "cell_type": "code",
   "execution_count": 6,
   "metadata": {},
   "outputs": [
    {
     "name": "stdout",
     "output_type": "stream",
     "text": [
      "Let's talk about Zed A. Shew.\n",
      "He's 74 inches tall.\n",
      "He's got 180 pound heavy.\n",
      "Actually that's not too heave.\n",
      "He's got Blue eyes and Brown hair.\n",
      "His teeth are usually White depending on the coffee.\n",
      "He's 187.96 cm tall.\n",
      "He's 81.64656 kg heavy.\n"
     ]
    }
   ],
   "source": [
    "#Exercise 5\n",
    "\n",
    "name = 'Zed A. Shew'\n",
    "age = 35 # not a lie\n",
    "height = 74 # inches\n",
    "weight = 180 # lbs\n",
    "eyes = 'Blue'\n",
    "teeth = 'White'\n",
    "hair = 'Brown'\n",
    "\n",
    "print(f\"Let's talk about {name}.\")\n",
    "print(f\"He's {height} inches tall.\")\n",
    "print(f\"He's got {weight} pound heavy.\")\n",
    "print(\"Actually that's not too heave.\")\n",
    "print(f\"He's got {eyes} eyes and {hair} hair.\")\n",
    "print(f\"His teeth are usually {teeth} depending on the coffee.\")\n",
    "\n",
    "#Below code is student drill\n",
    "\n",
    "heigh_cm = height * 2.54\n",
    "weight_kg = weight * 0.453592\n",
    "\n",
    "print(f\"He's {heigh_cm} cm tall.\")\n",
    "print(f\"He's {weight_kg} kg heavy.\")\n"
   ]
  },
  {
   "cell_type": "code",
   "execution_count": 8,
   "metadata": {},
   "outputs": [
    {
     "name": "stdout",
     "output_type": "stream",
     "text": [
      "There are 10 types of people.\n",
      "Those who know binary and those who don't.\n",
      "I said: There are 10 types of people.\n",
      "I also said: 'Those who know binary and those who don't.'\n",
      "Isn't that joke so funny?! True\n",
      "This is the left side of...a string with a right side.\n"
     ]
    }
   ],
   "source": [
    "types_of_people = 10 #Assigne a value of 10 to variable types_of_people\n",
    "x = f\"There are {types_of_people} types of people.\" #Assign a string to variable x\n",
    "\n",
    "binary = \"binary\" #Assign a string to variable binary\n",
    "do_not = \"don't\" #Assign a string to variable do_not\n",
    "y = f\"Those who know {binary} and those who {do_not}.\" #Assign a string to variable y\n",
    "\n",
    "print(x) #Print variable x\n",
    "print(y) #Print variable y\n",
    "\n",
    "print(f\"I said: {x}\") #Print string with variable x\n",
    "print(f\"I also said: '{y}'\") #Print string with variable y\n",
    "\n",
    "hilarious = True #Assign a boolean value to variable hilarious\n",
    "joke_evaluation = \"Isn't that joke so funny?! {}\" #Assign a string to variable joke_evaluation with variable hilarious inside it\n",
    "\n",
    "print(joke_evaluation.format(hilarious)) #Print string with variable hilarious\n",
    "\n",
    "w = \"This is the left side of...\" #Assign a string to variable w\n",
    "e = \"a string with a right side.\" #Assign a string to variable e\n",
    "\n",
    "print(w + e) #Print string with variables w and e\n"
   ]
  },
  {
   "cell_type": "code",
   "execution_count": null,
   "metadata": {},
   "outputs": [],
   "source": [
    "#Exercise 7\n",
    "\n",
    "print(\"Mary had a little lamb.\")\n",
    "print(\"Its fleece was white as {}.\".format('snow'))\n",
    "print(\"And everywhere that Mary went.\")\n",
    "print(\".\" * 10) # what'd that do?\n",
    "\n",
    "end1 = \"C\"\n",
    "end2 = \"h\"\n",
    "end3 = \"e\"\n",
    "end4 = \"e\"\n",
    "end5 = \"s\"\n",
    "end6 = \"e\"\n",
    "end7 = \"B\"\n",
    "end8 = \"u\"\n",
    "end9 = \"r\"\n",
    "end10 = \"g\"\n",
    "end11 = \"e\"\n",
    "end12 = \"r\"\n",
    "\n",
    "# watch that comma at the end. try removing it to see what happens\n",
    "print(end1 + end2 + end3 + end4 + end5 + end6, end=' ') #Combining from end1 - end6 and printng\n",
    "print(end7 + end8 + end9 + end10 + end11 + end12) #combining from end7 - end12"
   ]
  },
  {
   "cell_type": "markdown",
   "metadata": {},
   "source": []
  }
 ],
 "metadata": {
  "kernelspec": {
   "display_name": "Python 3",
   "language": "python",
   "name": "python3"
  },
  "language_info": {
   "codemirror_mode": {
    "name": "ipython",
    "version": 3
   },
   "file_extension": ".py",
   "mimetype": "text/x-python",
   "name": "python",
   "nbconvert_exporter": "python",
   "pygments_lexer": "ipython3",
   "version": "3.12.0"
  }
 },
 "nbformat": 4,
 "nbformat_minor": 2
}
