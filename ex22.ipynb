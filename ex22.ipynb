{
 "cells": [
  {
   "cell_type": "markdown",
   "metadata": {},
   "source": [
    "## Exercise 22\n",
    "### In this exercise i do rewrite all character and symbol from previous exercise. So that's mean i must understand all the code to make a good fundamental"
   ]
  },
  {
   "cell_type": "code",
   "execution_count": null,
   "metadata": {},
   "outputs": [],
   "source": [
    "# Exercise 1\n",
    "\n",
    "print(\"Hello World!\")\n",
    "print(\"Hello Again\")\n",
    "print(\"I Like Typing This.\")\n",
    "print(\"This Is Fun.\")\n",
    "print(\"Yay! Printing.\")\n",
    "print(\"I'd much rather you 'not'.\")\n",
    "print('I \"said\" not to touch this.')\n",
    "print('Johny said \"This is crazy!\"')"
   ]
  },
  {
   "cell_type": "markdown",
   "metadata": {},
   "source": [
    "So the print function is to prins the value inside the parentheses to sys.stdout.\n",
    "\n",
    "Otherwise the parentheses is to call an object."
   ]
  },
  {
   "cell_type": "code",
   "execution_count": null,
   "metadata": {},
   "outputs": [],
   "source": [
    "# Exercise 2\n",
    "\n",
    "# A comment, this is so you can read your program later.\n",
    "# Anything after the # is ignored by python.\n",
    "\n",
    "print(\"I could have code like this.\") # and the comment after is ignored.\n",
    "\n",
    "# You can also use a comment to \"disable\" or comment out a piece of code:\n",
    "# print(\"This won't run.\")\n",
    "\n",
    "print(\"This will run.\")\n"
   ]
  },
  {
   "cell_type": "markdown",
   "metadata": {},
   "source": [
    "The hash # symbol is indicate line after it will be a comments section. Wich is the comment are ignored by the syntax"
   ]
  },
  {
   "cell_type": "code",
   "execution_count": 2,
   "metadata": {},
   "outputs": [
    {
     "name": "stdout",
     "output_type": "stream",
     "text": [
      "I will now count my chicken:\n",
      "Hens 30.0\n",
      "Roosters 97\n",
      "Now i will count the eggs:\n",
      "6.75\n",
      "Is it true that 3 + 2 < 5 - 7?\n",
      "False\n",
      "What is 3 + 2? 5\n",
      "What is 5 - 7? -2\n",
      "Oh that's why it's false.\n",
      "Is it greater? True\n",
      "Is it greater or equal? True\n",
      "Is it less or equal? False\n"
     ]
    }
   ],
   "source": [
    "# Exercise 3\n",
    "\n",
    "print(\"I will now count my chicken:\")\n",
    "\n",
    "print(\"Hens\", 25 + 30 / 6) #The comma after \"Hens\" is used to separate string and numerical processing\n",
    "print(\"Roosters\", 100 - 25 * 3 % 4)\n",
    "\n",
    "print(\"Now i will count the eggs:\")\n",
    "\n",
    "print(3 + 2 + 1 - 5 + 4 % 2 - 1 / 4 + 6)\n",
    "\n",
    "print(\"Is it true that 3 + 2 < 5 - 7?\")\n",
    "\n",
    "print(3 + 2 < 5 - 7) #Will gave a False answer because 5 is greater than -2\n",
    "\n",
    "print(\"What is 3 + 2?\", 3 + 2)\n",
    "print(\"What is 5 - 7?\", 5 - 7)\n",
    "\n",
    "print(\"Oh that's why it's false.\")\n",
    "\n",
    "print(\"Is it greater?\", 5 > -2)\n",
    "print(\"Is it greater or equal?\", 5 >= -2)\n",
    "print(\"Is it less or equal?\", 5 <= -2)"
   ]
  },
  {
   "cell_type": "markdown",
   "metadata": {},
   "source": [
    "So at Exercise 3 I've learn about operator in python. These operator help us on doing math logic in python language.\n",
    "\n",
    "Below is the student drill."
   ]
  },
  {
   "cell_type": "code",
   "execution_count": 3,
   "metadata": {},
   "outputs": [
    {
     "name": "stdout",
     "output_type": "stream",
     "text": [
      "The volume of a cube with side lenght 7 is 343 cm^3\n",
      "The volume of a ball with radius 11 is 5572.453333333333 cm^3\n",
      "The volume of a pyramid with base 7 and height 12 is 196.0 cm^3\n"
     ]
    }
   ],
   "source": [
    "#Formula to know cubes volume\n",
    "print(\"The volume of a cube with side lenght 7 is\", 7 ** 3,\"cm^3\")\n",
    "\n",
    "#Formula to know a Ball volume\n",
    "print(\"The volume of a ball with radius 11 is\", (4 / 3) * 3.14 * 11 ** 3, \"cm^3\")\n",
    "\n",
    "#Formula to know a pyramid volume\n",
    "print(\"The volume of a pyramid with base 7 and height 12 is\", (7 ** 2 * 12) / 3, \"cm^3\")"
   ]
  }
 ],
 "metadata": {
  "kernelspec": {
   "display_name": "Python 3",
   "language": "python",
   "name": "python3"
  },
  "language_info": {
   "codemirror_mode": {
    "name": "ipython",
    "version": 3
   },
   "file_extension": ".py",
   "mimetype": "text/x-python",
   "name": "python",
   "nbconvert_exporter": "python",
   "pygments_lexer": "ipython3",
   "version": "3.12.0"
  }
 },
 "nbformat": 4,
 "nbformat_minor": 2
}
